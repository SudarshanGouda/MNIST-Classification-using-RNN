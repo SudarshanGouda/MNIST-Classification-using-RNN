{
 "cells": [
  {
   "cell_type": "markdown",
   "id": "254dc220",
   "metadata": {},
   "source": [
    "## MNIST Classification using RNN"
   ]
  },
  {
   "cell_type": "code",
   "execution_count": 5,
   "id": "b008d28f",
   "metadata": {},
   "outputs": [],
   "source": [
    "import pandas as pd\n",
    "import numpy as np\n",
    "import matplotlib.pyplot as plt\n",
    "import tensorflow as tf"
   ]
  },
  {
   "cell_type": "code",
   "execution_count": 3,
   "id": "4c928a6d",
   "metadata": {},
   "outputs": [],
   "source": [
    "from tensorflow.keras import Sequential,Input\n",
    "from tensorflow.keras.models import Model\n",
    "from tensorflow.keras.optimizers import Adam\n",
    "from tensorflow.keras.layers import Dense,Flatten,SimpleRNN,GRU,LSTM,GlobalMaxPool1D"
   ]
  },
  {
   "cell_type": "markdown",
   "id": "ad32844f",
   "metadata": {},
   "source": [
    "## Importing the data"
   ]
  },
  {
   "cell_type": "code",
   "execution_count": 8,
   "id": "1f46910e",
   "metadata": {},
   "outputs": [
    {
     "name": "stdout",
     "output_type": "stream",
     "text": [
      "Downloading data from https://storage.googleapis.com/tensorflow/tf-keras-datasets/mnist.npz\n",
      "11490434/11490434 [==============================] - 3s 0us/step\n"
     ]
    }
   ],
   "source": [
    "mnist=tf.keras.datasets.mnist\n",
    "\n",
    "(X_train,y_train),(X_test,y_test)=mnist.load_data()"
   ]
  },
  {
   "cell_type": "code",
   "execution_count": 10,
   "id": "32165585",
   "metadata": {},
   "outputs": [
    {
     "name": "stdout",
     "output_type": "stream",
     "text": [
      "(60000, 28, 28) (10000, 28, 28)\n"
     ]
    }
   ],
   "source": [
    "X_train=X_train/255.0\n",
    "X_test=X_test/255.0\n",
    "\n",
    "print(X_train.shape,X_test.shape)"
   ]
  },
  {
   "cell_type": "code",
   "execution_count": 16,
   "id": "528037a6",
   "metadata": {},
   "outputs": [],
   "source": [
    "shape=X_train[0].shape"
   ]
  },
  {
   "cell_type": "markdown",
   "id": "9710e4b0",
   "metadata": {},
   "source": [
    "### LSTM"
   ]
  },
  {
   "cell_type": "code",
   "execution_count": 17,
   "id": "68783700",
   "metadata": {},
   "outputs": [],
   "source": [
    "model=Sequential()\n",
    "\n",
    "model.add(LSTM(128,activation='relu',input_shape=shape))\n",
    "\n",
    "model.add(Dense(10,activation='softmax'))"
   ]
  },
  {
   "cell_type": "code",
   "execution_count": 18,
   "id": "9cc83907",
   "metadata": {},
   "outputs": [],
   "source": [
    "model.compile(optimizer='adam',loss='sparse_categorical_crossentropy',metrics=['accuracy'])"
   ]
  },
  {
   "cell_type": "code",
   "execution_count": 19,
   "id": "2a46ae48",
   "metadata": {},
   "outputs": [
    {
     "name": "stdout",
     "output_type": "stream",
     "text": [
      "Epoch 1/10\n",
      "1875/1875 [==============================] - 65s 33ms/step - loss: 2.2560 - accuracy: 0.1406 - val_loss: 2.1653 - val_accuracy: 0.2313\n",
      "Epoch 2/10\n",
      "1875/1875 [==============================] - 58s 31ms/step - loss: 1.8946 - accuracy: 0.3196 - val_loss: 1.5472 - val_accuracy: 0.4105\n",
      "Epoch 3/10\n",
      "1875/1875 [==============================] - 57s 30ms/step - loss: 1.1875 - accuracy: 0.5746 - val_loss: 1.0002 - val_accuracy: 0.6448\n",
      "Epoch 4/10\n",
      "1875/1875 [==============================] - 56s 30ms/step - loss: 0.9204 - accuracy: 0.6848 - val_loss: 0.8638 - val_accuracy: 0.7031\n",
      "Epoch 5/10\n",
      "1875/1875 [==============================] - 53s 28ms/step - loss: 0.7240 - accuracy: 0.7584 - val_loss: 0.6328 - val_accuracy: 0.7943\n",
      "Epoch 6/10\n",
      "1875/1875 [==============================] - 53s 28ms/step - loss: 0.5675 - accuracy: 0.8124 - val_loss: 0.4420 - val_accuracy: 0.8589\n",
      "Epoch 7/10\n",
      "1875/1875 [==============================] - 53s 28ms/step - loss: 0.4809 - accuracy: 0.8440 - val_loss: 0.4287 - val_accuracy: 0.8624\n",
      "Epoch 8/10\n",
      "1875/1875 [==============================] - 56s 30ms/step - loss: 0.4286 - accuracy: 0.8621 - val_loss: 0.3290 - val_accuracy: 0.8993\n",
      "Epoch 9/10\n",
      "1875/1875 [==============================] - 61s 33ms/step - loss: 0.3858 - accuracy: 0.8759 - val_loss: 0.3773 - val_accuracy: 0.8777\n",
      "Epoch 10/10\n",
      "1875/1875 [==============================] - 62s 33ms/step - loss: 0.3569 - accuracy: 0.8847 - val_loss: 0.3497 - val_accuracy: 0.8902\n"
     ]
    },
    {
     "data": {
      "text/plain": [
       "<keras.callbacks.History at 0x1fd51130460>"
      ]
     },
     "execution_count": 19,
     "metadata": {},
     "output_type": "execute_result"
    }
   ],
   "source": [
    "model.fit(x=X_train,y=y_train,epochs=10,validation_data=(X_test,y_test))"
   ]
  },
  {
   "cell_type": "markdown",
   "id": "15b81de7",
   "metadata": {},
   "source": [
    "### GRU"
   ]
  },
  {
   "cell_type": "code",
   "execution_count": 20,
   "id": "bd115b34",
   "metadata": {},
   "outputs": [
    {
     "name": "stdout",
     "output_type": "stream",
     "text": [
      "Epoch 1/10\n",
      "1875/1875 [==============================] - 49s 25ms/step - loss: 2.2856 - accuracy: 0.1195 - val_loss: 2.3018 - val_accuracy: 0.1032\n",
      "Epoch 2/10\n",
      "1875/1875 [==============================] - 50s 27ms/step - loss: 1.9920 - accuracy: 0.2624 - val_loss: 1.8128 - val_accuracy: 0.3526\n",
      "Epoch 3/10\n",
      "1875/1875 [==============================] - 43s 23ms/step - loss: 1.4630 - accuracy: 0.4735 - val_loss: 1.1879 - val_accuracy: 0.5497\n",
      "Epoch 4/10\n",
      "1875/1875 [==============================] - 41s 22ms/step - loss: 1.0686 - accuracy: 0.5974 - val_loss: 1.0540 - val_accuracy: 0.6078\n",
      "Epoch 5/10\n",
      "1875/1875 [==============================] - 41s 22ms/step - loss: 0.7895 - accuracy: 0.7122 - val_loss: 0.6580 - val_accuracy: 0.7725\n",
      "Epoch 6/10\n",
      "1875/1875 [==============================] - 41s 22ms/step - loss: 0.6303 - accuracy: 0.7812 - val_loss: 0.5430 - val_accuracy: 0.8166\n",
      "Epoch 7/10\n",
      "1875/1875 [==============================] - 48s 25ms/step - loss: 0.5364 - accuracy: 0.8196 - val_loss: 0.4465 - val_accuracy: 0.8495\n",
      "Epoch 8/10\n",
      "1875/1875 [==============================] - 50s 27ms/step - loss: 0.4636 - accuracy: 0.8455 - val_loss: 0.5493 - val_accuracy: 0.8082\n",
      "Epoch 9/10\n",
      "1875/1875 [==============================] - 47s 25ms/step - loss: 0.4105 - accuracy: 0.8659 - val_loss: 0.3347 - val_accuracy: 0.8930\n",
      "Epoch 10/10\n",
      "1875/1875 [==============================] - 44s 24ms/step - loss: 0.3739 - accuracy: 0.8786 - val_loss: 0.3459 - val_accuracy: 0.8824\n"
     ]
    },
    {
     "data": {
      "text/plain": [
       "<keras.callbacks.History at 0x1fd5e6ace80>"
      ]
     },
     "execution_count": 20,
     "metadata": {},
     "output_type": "execute_result"
    }
   ],
   "source": [
    "model=Sequential()\n",
    "\n",
    "model.add(GRU(128,activation='relu',input_shape=shape))\n",
    "\n",
    "model.add(Dense(10,activation='softmax'))\n",
    "\n",
    "model.compile(optimizer='adam',loss='sparse_categorical_crossentropy',metrics=['accuracy'])\n",
    "\n",
    "model.fit(x=X_train,y=y_train,epochs=10,validation_data=(X_test,y_test))"
   ]
  },
  {
   "cell_type": "code",
   "execution_count": 21,
   "id": "d876d382",
   "metadata": {},
   "outputs": [
    {
     "data": {
      "text/plain": [
       "<AxesSubplot:>"
      ]
     },
     "execution_count": 21,
     "metadata": {},
     "output_type": "execute_result"
    },
    {
     "data": {
      "image/png": "[encoded data removed]",
      "text/plain": [
       "<Figure size 432x288 with 1 Axes>"
      ]
     },
     "metadata": {
      "needs_background": "light"
     },
     "output_type": "display_data"
    }
   ],
   "source": [
    "losses=pd.DataFrame(model.history.history)\n",
    "losses.plot()"
   ]
  },
  {
   "cell_type": "code",
   "execution_count": null,
   "id": "4ff07564",
   "metadata": {},
   "outputs": [],
   "source": []
  }
 ],
 "metadata": {
  "kernelspec": {
   "display_name": "Python 3 (ipykernel)",
   "language": "python",
   "name": "python3"
  },
  "language_info": {
   "codemirror_mode": {
    "name": "ipython",
    "version": 3
   },
   "file_extension": ".py",
   "mimetype": "text/x-python",
   "name": "python",
   "nbconvert_exporter": "python",
   "pygments_lexer": "ipython3",
   "version": "3.9.12"
  }
 },
 "nbformat": 4,
 "nbformat_minor": 5
}
