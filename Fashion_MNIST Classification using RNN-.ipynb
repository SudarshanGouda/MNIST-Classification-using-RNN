{
 "cells": [
  {
   "cell_type": "markdown",
   "id": "1d4eb774",
   "metadata": {},
   "source": [
    "## Fashion_MNIST Classification using RNN"
   ]
  },
  {
   "cell_type": "code",
   "execution_count": 16,
   "id": "50ad566a",
   "metadata": {},
   "outputs": [],
   "source": [
    "import pandas as pd\n",
    "import numpy as np\n",
    "import matplotlib.pyplot as plt\n",
    "import tensorflow as tf"
   ]
  },
  {
   "cell_type": "code",
   "execution_count": 17,
   "id": "ee72ad78",
   "metadata": {},
   "outputs": [],
   "source": [
    "from tensorflow.keras import Sequential,Input\n",
    "from tensorflow.keras.models import Model\n",
    "from tensorflow.keras.optimizers import Adam\n",
    "from tensorflow.keras.layers import Dense,Flatten,SimpleRNN,GRU,LSTM,GlobalMaxPool1D"
   ]
  },
  {
   "cell_type": "markdown",
   "id": "32180b19",
   "metadata": {},
   "source": [
    "## Importing the data"
   ]
  },
  {
   "cell_type": "code",
   "execution_count": 18,
   "id": "a935e898",
   "metadata": {},
   "outputs": [],
   "source": [
    "mnist=tf.keras.datasets.fashion_mnist\n",
    "\n",
    "(X_train,y_train),(X_test,y_test)=mnist.load_data()"
   ]
  },
  {
   "cell_type": "code",
   "execution_count": 19,
   "id": "560e49fd",
   "metadata": {
    "scrolled": true
   },
   "outputs": [
    {
     "name": "stdout",
     "output_type": "stream",
     "text": [
      "(60000, 28, 28) (10000, 28, 28)\n"
     ]
    }
   ],
   "source": [
    "X_train=X_train/255.0\n",
    "X_test=X_test/255.0\n",
    "\n",
    "print(X_train.shape,X_test.shape)"
   ]
  },
  {
   "cell_type": "code",
   "execution_count": 20,
   "id": "ccd8882e",
   "metadata": {},
   "outputs": [
    {
     "name": "stdout",
     "output_type": "stream",
     "text": [
      "(60000,) (10000,)\n"
     ]
    }
   ],
   "source": [
    "print(y_train.shape,y_test.shape)"
   ]
  },
  {
   "cell_type": "code",
   "execution_count": 21,
   "id": "3ac4a8e2",
   "metadata": {},
   "outputs": [],
   "source": [
    "shape=X_train[0].shape"
   ]
  },
  {
   "cell_type": "markdown",
   "id": "a79a7c45",
   "metadata": {},
   "source": [
    "### LSTM"
   ]
  },
  {
   "cell_type": "code",
   "execution_count": 22,
   "id": "c5227529",
   "metadata": {},
   "outputs": [],
   "source": [
    "model=Sequential()\n",
    "\n",
    "model.add(LSTM(128,activation='relu',input_shape=shape))\n",
    "\n",
    "model.add(Dense(10,activation='softmax'))"
   ]
  },
  {
   "cell_type": "code",
   "execution_count": 23,
   "id": "768ac0c2",
   "metadata": {},
   "outputs": [],
   "source": [
    "model.compile(optimizer='adam',loss='sparse_categorical_crossentropy',metrics=['accuracy'])"
   ]
  },
  {
   "cell_type": "code",
   "execution_count": 24,
   "id": "25889b2c",
   "metadata": {
    "scrolled": false
   },
   "outputs": [
    {
     "name": "stdout",
     "output_type": "stream",
     "text": [
      "Epoch 1/20\n",
      "1875/1875 [==============================] - 55s 28ms/step - loss: 0.6466 - accuracy: 0.7630 - val_loss: 0.4436 - val_accuracy: 0.8351\n",
      "Epoch 2/20\n",
      "1875/1875 [==============================] - 50s 27ms/step - loss: 0.4024 - accuracy: 0.8519 - val_loss: 0.3814 - val_accuracy: 0.8630\n",
      "Epoch 3/20\n",
      "1875/1875 [==============================] - 51s 27ms/step - loss: 0.3525 - accuracy: 0.8703 - val_loss: 0.3645 - val_accuracy: 0.8688\n",
      "Epoch 4/20\n",
      "1875/1875 [==============================] - 51s 27ms/step - loss: 0.3226 - accuracy: 0.8799 - val_loss: 0.3622 - val_accuracy: 0.8652\n",
      "Epoch 5/20\n",
      "1875/1875 [==============================] - 52s 28ms/step - loss: 0.3013 - accuracy: 0.8880 - val_loss: 0.3357 - val_accuracy: 0.8771\n",
      "Epoch 6/20\n",
      "1875/1875 [==============================] - 50s 27ms/step - loss: 0.2829 - accuracy: 0.8933 - val_loss: 0.3155 - val_accuracy: 0.8846\n",
      "Epoch 7/20\n",
      "1875/1875 [==============================] - 52s 28ms/step - loss: 0.2689 - accuracy: 0.9000 - val_loss: 0.3166 - val_accuracy: 0.8861\n",
      "Epoch 8/20\n",
      "1875/1875 [==============================] - 51s 27ms/step - loss: 0.2598 - accuracy: 0.9028 - val_loss: 0.3231 - val_accuracy: 0.8839\n",
      "Epoch 9/20\n",
      "1875/1875 [==============================] - 51s 27ms/step - loss: 0.2465 - accuracy: 0.9070 - val_loss: 0.3001 - val_accuracy: 0.8910\n",
      "Epoch 10/20\n",
      "1875/1875 [==============================] - 51s 27ms/step - loss: 0.2370 - accuracy: 0.9105 - val_loss: 0.2925 - val_accuracy: 0.8939\n",
      "Epoch 11/20\n",
      "1875/1875 [==============================] - 52s 27ms/step - loss: 0.2267 - accuracy: 0.9138 - val_loss: 0.2983 - val_accuracy: 0.8956\n",
      "Epoch 12/20\n",
      "1875/1875 [==============================] - 52s 28ms/step - loss: 0.2193 - accuracy: 0.9172 - val_loss: 0.2883 - val_accuracy: 0.8965\n",
      "Epoch 13/20\n",
      "1875/1875 [==============================] - 52s 28ms/step - loss: 0.2143 - accuracy: 0.9186 - val_loss: 0.2815 - val_accuracy: 0.9008\n",
      "Epoch 14/20\n",
      "1875/1875 [==============================] - 51s 27ms/step - loss: 0.2238 - accuracy: 0.9168 - val_loss: 0.2926 - val_accuracy: 0.8954\n",
      "Epoch 15/20\n",
      "1875/1875 [==============================] - 51s 27ms/step - loss: 0.1982 - accuracy: 0.9251 - val_loss: 0.2949 - val_accuracy: 0.8960\n",
      "Epoch 16/20\n",
      "1875/1875 [==============================] - 52s 28ms/step - loss: 0.1919 - accuracy: 0.9272 - val_loss: 0.3182 - val_accuracy: 0.8958\n",
      "Epoch 17/20\n",
      "1875/1875 [==============================] - 51s 27ms/step - loss: 0.1868 - accuracy: 0.9298 - val_loss: 0.2992 - val_accuracy: 0.8984\n",
      "Epoch 18/20\n",
      "1875/1875 [==============================] - 51s 27ms/step - loss: 0.1814 - accuracy: 0.9312 - val_loss: 0.2828 - val_accuracy: 0.9030\n",
      "Epoch 19/20\n",
      "1875/1875 [==============================] - 52s 28ms/step - loss: 0.1743 - accuracy: 0.9344 - val_loss: 0.2909 - val_accuracy: 0.9006\n",
      "Epoch 20/20\n",
      "1875/1875 [==============================] - 59s 31ms/step - loss: 0.1694 - accuracy: 0.9368 - val_loss: 0.2961 - val_accuracy: 0.9011\n"
     ]
    },
    {
     "data": {
      "text/plain": [
       "<keras.callbacks.History at 0x1df347ebbe0>"
      ]
     },
     "execution_count": 24,
     "metadata": {},
     "output_type": "execute_result"
    }
   ],
   "source": [
    "model.fit(x=X_train,y=y_train,epochs=20,validation_data=(X_test,y_test))"
   ]
  },
  {
   "cell_type": "code",
   "execution_count": 25,
   "id": "e629de10",
   "metadata": {},
   "outputs": [
    {
     "data": {
      "text/plain": [
       "<AxesSubplot:>"
      ]
     },
     "execution_count": 25,
     "metadata": {},
     "output_type": "execute_result"
    },
    {
     "data": {
      "image/png": "[encoded data removed]",
      "text/plain": [
       "<Figure size 432x288 with 1 Axes>"
      ]
     },
     "metadata": {
      "needs_background": "light"
     },
     "output_type": "display_data"
    }
   ],
   "source": [
    "losses=pd.DataFrame(model.history.history)\n",
    "losses.plot()"
   ]
  },
  {
   "cell_type": "markdown",
   "id": "4f13b023",
   "metadata": {},
   "source": [
    "### GRU"
   ]
  },
  {
   "cell_type": "code",
   "execution_count": 26,
   "id": "e11b226b",
   "metadata": {},
   "outputs": [
    {
     "name": "stdout",
     "output_type": "stream",
     "text": [
      "Epoch 1/10\n",
      "1875/1875 [==============================] - 44s 23ms/step - loss: 0.5920 - accuracy: 0.7826 - val_loss: 0.4216 - val_accuracy: 0.8448\n",
      "Epoch 2/10\n",
      "1875/1875 [==============================] - 43s 23ms/step - loss: 0.3728 - accuracy: 0.8618 - val_loss: 0.3707 - val_accuracy: 0.8662\n",
      "Epoch 3/10\n",
      "1875/1875 [==============================] - 43s 23ms/step - loss: 0.3294 - accuracy: 0.8767 - val_loss: 0.3359 - val_accuracy: 0.8779\n",
      "Epoch 4/10\n",
      "1875/1875 [==============================] - 42s 23ms/step - loss: 0.3021 - accuracy: 0.8857 - val_loss: 0.3223 - val_accuracy: 0.8834\n",
      "Epoch 5/10\n",
      "1875/1875 [==============================] - 43s 23ms/step - loss: 0.2839 - accuracy: 0.8938 - val_loss: 0.3083 - val_accuracy: 0.8873\n",
      "Epoch 6/10\n",
      "1875/1875 [==============================] - 43s 23ms/step - loss: 0.2676 - accuracy: 0.8992 - val_loss: 0.3086 - val_accuracy: 0.8896\n",
      "Epoch 7/10\n",
      "1875/1875 [==============================] - 43s 23ms/step - loss: 0.2530 - accuracy: 0.9043 - val_loss: 0.2953 - val_accuracy: 0.8897\n",
      "Epoch 8/10\n",
      "1875/1875 [==============================] - 43s 23ms/step - loss: 0.2406 - accuracy: 0.9097 - val_loss: 0.2848 - val_accuracy: 0.8966\n",
      "Epoch 9/10\n",
      "1875/1875 [==============================] - 43s 23ms/step - loss: 0.2296 - accuracy: 0.9141 - val_loss: 0.2796 - val_accuracy: 0.8974\n",
      "Epoch 10/10\n",
      "1875/1875 [==============================] - 43s 23ms/step - loss: 0.2185 - accuracy: 0.9175 - val_loss: 0.2809 - val_accuracy: 0.8971\n"
     ]
    },
    {
     "data": {
      "text/plain": [
       "<keras.callbacks.History at 0x1df34f42400>"
      ]
     },
     "execution_count": 26,
     "metadata": {},
     "output_type": "execute_result"
    }
   ],
   "source": [
    "model=Sequential()\n",
    "\n",
    "model.add(GRU(128,activation='relu',input_shape=shape))\n",
    "\n",
    "model.add(Dense(10,activation='softmax'))\n",
    "\n",
    "model.compile(optimizer='adam',loss='sparse_categorical_crossentropy',metrics=['accuracy'])\n",
    "\n",
    "model.fit(x=X_train,y=y_train,epochs=10,validation_data=(X_test,y_test))"
   ]
  },
  {
   "cell_type": "code",
   "execution_count": 27,
   "id": "cad13143",
   "metadata": {},
   "outputs": [
    {
     "data": {
      "text/plain": [
       "<AxesSubplot:>"
      ]
     },
     "execution_count": 27,
     "metadata": {},
     "output_type": "execute_result"
    },
    {
     "data": {
      "image/png": "[encoded data removed]",
      "text/plain": [
       "<Figure size 432x288 with 1 Axes>"
      ]
     },
     "metadata": {
      "needs_background": "light"
     },
     "output_type": "display_data"
    }
   ],
   "source": [
    "losses=pd.DataFrame(model.history.history)\n",
    "losses.plot()"
   ]
  }
 ],
 "metadata": {
  "kernelspec": {
   "display_name": "Python 3 (ipykernel)",
   "language": "python",
   "name": "python3"
  },
  "language_info": {
   "codemirror_mode": {
    "name": "ipython",
    "version": 3
   },
   "file_extension": ".py",
   "mimetype": "text/x-python",
   "name": "python",
   "nbconvert_exporter": "python",
   "pygments_lexer": "ipython3",
   "version": "3.9.12"
  }
 },
 "nbformat": 4,
 "nbformat_minor": 5
}
